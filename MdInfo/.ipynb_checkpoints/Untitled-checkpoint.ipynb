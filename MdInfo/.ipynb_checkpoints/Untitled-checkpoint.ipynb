{
 "cells": [
  {
   "cell_type": "code",
   "execution_count": null,
   "id": "3c6c8c44-5a15-44cb-ad0c-0b03660f0bda",
   "metadata": {},
   "outputs": [],
   "source": [
    "class ConvertBOX:\n",
    "    def __init__(self, input_file_path):\n",
    "        self.input_file_path = input_file_path\n",
    "\n",
    "    def lmp_to_poscar(self, output_file_path):\n",
    "        try:\n",
    "            with open(self.input_file_path, 'r') as input_file:\n",
    "                # 读取输入文件的内容\n",
    "                input_content = input_file.read()\n",
    "\n",
    "                # 在这里实现将输入内容从LAMMPS格式转换为VASP格式的逻辑\n",
    "                # 请根据需要编写适当的代码来执行转换\n",
    "\n",
    "                # 将转换后的内容写入输出文件\n",
    "                with open(output_file_path, 'w') as output_file:\n",
    "                    output_file.write(converted_content)\n",
    "\n",
    "            print(f\"转换成功！已将 {self.input_file_path} 转换为 {output_file_path}\")\n",
    "        except Exception as e:\n",
    "            print(f\"转换过程中出现错误：{str(e)}\")\n",
    "\n",
    "    def poscar_to_lmp(self, output_file_path):\n",
    "        try:\n",
    "            with open(self.input_file_path, 'r') as input_file:\n",
    "                # 读取输入文件的内容\n",
    "                input_content = input_file.read()\n",
    "\n",
    "                # 在这里实现将输入内容从VASP格式转换为LAMMPS格式的逻辑\n",
    "                # 请根据需要编写适当的代码来执行转换\n",
    "\n",
    "                # 将转换后的内容写入输出文件\n",
    "                with open(output_file_path, 'w') as output_file:\n",
    "                    output_file.write(converted_content)\n",
    "\n",
    "            print(f\"转换成功！已将 {self.input_file_path} 转换为 {output_file_path}\")\n",
    "        except Exception as e:\n",
    "            print(f\"转换过程中出现错误：{str(e)}\")\n",
    "\n",
    "# 使用示例\n",
    "if __name__ == \"__main__\":\n",
    "    input_file_path = \"path/to/your/input/file\"\n",
    "    output_file_path = \"path/to/output/file\"\n",
    "\n",
    "    converter = InputConverter(input_file_path)\n",
    "\n",
    "    # 转换为POSCAR\n",
    "    converter.convert_to_poscar(output_file_path)\n",
    "\n",
    "    # 转换为conf.lmp\n",
    "    converter.convert_to_lammps(output_file_path)\n"
   ]
  }
 ],
 "metadata": {
  "kernelspec": {
   "display_name": "Python 3 (ipykernel)",
   "language": "python",
   "name": "python3"
  },
  "language_info": {
   "codemirror_mode": {
    "name": "ipython",
    "version": 3
   },
   "file_extension": ".py",
   "mimetype": "text/x-python",
   "name": "python",
   "nbconvert_exporter": "python",
   "pygments_lexer": "ipython3",
   "version": "3.9.6"
  }
 },
 "nbformat": 4,
 "nbformat_minor": 5
}
