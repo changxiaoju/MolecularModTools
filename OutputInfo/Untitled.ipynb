{
 "cells": [
  {
   "cell_type": "code",
   "execution_count": null,
   "id": "d8024f38-67be-4ab4-8d31-f13f2e6ac7bc",
   "metadata": {},
   "outputs": [],
   "source": [
    "# 打开OUTCAR文件\n",
    "with open(outcar_file, 'r') as outcar:\n",
    "    # 初始化变量\n",
    "    reading_forces = False  # 用于标记是否在读取力矩数据\n",
    "    forces = []  # 用于存储力矩数据\n",
    "\n",
    "    for line in outcar:\n",
    "        # 检查是否遇到 'TOTAL-FORCE' 字符串\n",
    "        if 'TOTAL-FORCE' in line:\n",
    "            # 设置标志变量，准备读取数据\n",
    "            reading_forces = True\n",
    "            # 跳过接下来的两行\n",
    "            next(outcar)\n",
    "            next(outcar)\n",
    "            continue  # 继续下一行\n",
    "\n",
    "        # 如果已经开始读取力矩数据\n",
    "        if reading_forces:\n",
    "            # 如果遇到 '------' 则停止读取当前段的数据\n",
    "            if '------' in line:\n",
    "                reading_forces = False  # 重置标志变量，准备寻找下一个 'TOTAL-FORCE'\n",
    "            else:\n",
    "                # 读取力矩数据并存储\n",
    "                forces.append(line.strip())\n",
    "\n",
    "# 输出读取到的力矩数据\n",
    "for force in forces:\n",
    "    print(force)\n"
   ]
  }
 ],
 "metadata": {
  "kernelspec": {
   "display_name": "Python 3 (ipykernel)",
   "language": "python",
   "name": "python3"
  },
  "language_info": {
   "codemirror_mode": {
    "name": "ipython",
    "version": 3
   },
   "file_extension": ".py",
   "mimetype": "text/x-python",
   "name": "python",
   "nbconvert_exporter": "python",
   "pygments_lexer": "ipython3",
   "version": "3.9.6"
  }
 },
 "nbformat": 4,
 "nbformat_minor": 5
}
